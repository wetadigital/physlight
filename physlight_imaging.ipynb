{
  "nbformat": 4,
  "nbformat_minor": 0,
  "metadata": {
    "colab": {
      "name": "physlight_imaging.ipynb",
      "provenance": [],
      "collapsed_sections": []
    },
    "kernelspec": {
      "name": "python3",
      "display_name": "Python 3"
    }
  },
  "cells": [
    {
      "cell_type": "markdown",
      "metadata": {
        "id": "PviKho2fD7y_",
        "colab_type": "text"
      },
      "source": [
        "Copyright © 2020, Weta Digital, Ltd.\n",
        "\n",
        "SPDX-License-Identifier: Apache-2.0\n",
        "\n",
        "# PhysLight Imaging\n",
        "\n",
        "Here's a very simple idealized \"renderer\" that calculates the sRGB (linear) pixel values given a $2.5lx$ uniform environment light illuminating a 100% diffuse reflector.\n",
        "\n",
        "We'll set default camera parameters according to the exposure equation and verify that our output pixel values are exactly 1."
      ]
    },
    {
      "cell_type": "code",
      "metadata": {
        "id": "H6MexaUTEvIw",
        "colab_type": "code",
        "colab": {}
      },
      "source": [
        "import colour\n",
        "from colour import SpectralShape, CMFS\n",
        "import numpy as np\n",
        "import math\n"
      ],
      "execution_count": 51,
      "outputs": []
    },
    {
      "cell_type": "code",
      "metadata": {
        "id": "gfvMasXqE0bv",
        "colab_type": "code",
        "colab": {}
      },
      "source": [
        "\n",
        "# Convert the given SpectralDistribution to XYZ using CIE 1931 2-degree,\n",
        "# optionally normalizing such that Y=1.\n",
        "# Note that we define this here rather than using colour's in-built functions\n",
        "# for the sake of clarity\n",
        "def spectral_to_XYZ(sd, normalize=False):\n",
        "  cmf = CMFS['CIE 1931 2 Degree Standard Observer'].copy()\n",
        "  x_bar = cmf.align(SpectralShape(360, 780, 1)).values[:,0]\n",
        "  y_bar = cmf.align(SpectralShape(360, 780, 1)).values[:,1]\n",
        "  z_bar = cmf.align(SpectralShape(360, 780, 1)).values[:,2]\n",
        "  s = sd.copy().align(SpectralShape(360, 780, 1))\n",
        "  nm = s.wavelengths\n",
        "\n",
        "  x = np.trapz(x_bar * s.values, nm)\n",
        "  y = np.trapz(y_bar * s.values, nm)\n",
        "  z = np.trapz(z_bar * s.values, nm)\n",
        "\n",
        "  if normalize:\n",
        "    return [x, y, z] / y\n",
        "  else:\n",
        "    return [x, y, z]\n"
      ],
      "execution_count": 52,
      "outputs": []
    },
    {
      "cell_type": "markdown",
      "metadata": {
        "id": "xaJkpeENFpKw",
        "colab_type": "text"
      },
      "source": [
        "We want to check our working against photometric quantities, to do this we'll want to normalize our light source such that its spectral distribution represents a luminance of $1 nit$. We do this by dividing by:\n",
        "\n",
        "$$K_m \\int_{360nm}^{780nm} S(\\lambda) \\bar{y}(\\lambda) d\\lambda$$\n",
        "\n",
        "\n",
        "where $K_m = 683lm/W$. \n"
      ]
    },
    {
      "cell_type": "code",
      "metadata": {
        "id": "BtwnIj-jF9Tc",
        "colab_type": "code",
        "colab": {}
      },
      "source": [
        "def to_photometric(sd):\n",
        "  return spectral_to_XYZ(sd)[1] * 683\n",
        "\n",
        "d65 = colour.ILLUMINANTS_SDS['D65'].copy()\n",
        "spd_light = d65 / to_photometric(d65)"
      ],
      "execution_count": 53,
      "outputs": []
    },
    {
      "cell_type": "markdown",
      "metadata": {
        "id": "xLmTR0GGGDih",
        "colab_type": "text"
      },
      "source": [
        "Our setup is $2.5lx$ incident on a 100% diffuse reflector. So exitant luminance from the surface, $L_v$ will be $\\frac{2.5}{\\pi} nit$"
      ]
    },
    {
      "cell_type": "code",
      "metadata": {
        "id": "dpF4F1ELGa2C",
        "colab_type": "code",
        "colab": {}
      },
      "source": [
        "L_v = 2.5 / math.pi\n",
        "# L is radiance scaled to $L_v nit$\n",
        "L = spd_light * L_v"
      ],
      "execution_count": 54,
      "outputs": []
    },
    {
      "cell_type": "markdown",
      "metadata": {
        "id": "diRNCuocGqsI",
        "colab_type": "text"
      },
      "source": [
        "EV settings from Wikipedia $2.5lx$ $EV0$ example.\n",
        "\n",
        "\n",
        "https://en.wikipedia.org/wiki/Exposure_value#Relationship_of_EV_to_lighting_conditions\n",
        "\n",
        "When $EV=0$ (i.e. $2.5lx$ assuming $C=250$), then we should get a \"correct\" exposure\n",
        "with these camera settings"
      ]
    },
    {
      "cell_type": "code",
      "metadata": {
        "id": "JzGWNOgGGoa-",
        "colab_type": "code",
        "colab": {}
      },
      "source": [
        "t = 1.0\n",
        "N = 1.0\n",
        "S = 100.0\n",
        "C = 250.0\n",
        "K_m = 683.0\n"
      ],
      "execution_count": 55,
      "outputs": []
    },
    {
      "cell_type": "markdown",
      "metadata": {
        "id": "XXDQf1pRHFfb",
        "colab_type": "text"
      },
      "source": [
        "Convert radiance entering the camera system to exposure in $W m^{-2} nm^{-1} s$ (ish - we're actually representing some sort of output signal from the sensor here rather than exposure at the sensor, but it's easier to think of it this way)\n"
      ]
    },
    {
      "cell_type": "code",
      "metadata": {
        "id": "XkVFhoj3G7fC",
        "colab_type": "code",
        "colab": {}
      },
      "source": [
        "imaging_ratio = (math.pi * t * S * K_m) / (C * N * N)\n",
        "H = L * imaging_ratio"
      ],
      "execution_count": 56,
      "outputs": []
    },
    {
      "cell_type": "markdown",
      "metadata": {
        "id": "zejGP096HDAO",
        "colab_type": "text"
      },
      "source": [
        "Convert to XYZ then to linear sRGB. We get back to exactly 1 in RGB by dividing by the normalized RGB whitepoint."
      ]
    },
    {
      "cell_type": "code",
      "metadata": {
        "id": "R17kphqCHhSd",
        "colab_type": "code",
        "colab": {
          "base_uri": "https://localhost:8080/",
          "height": 35
        },
        "outputId": "b3927b7f-bda7-4ef3-c80a-f0d4d2084e6b"
      },
      "source": [
        "H_xyz = spectral_to_XYZ(H)\n",
        "\n",
        "sRGB = colour.models.sRGB_COLOURSPACE\n",
        "\n",
        "# We normalize when calculating the white point since we just want to affect\n",
        "# colour, not brightness\n",
        "white_xyz = spectral_to_XYZ(spd_light, normalize=True)\n",
        "white_rgb = np.dot(sRGB.XYZ_to_RGB_matrix, white_xyz)\n",
        "\n",
        "H_rgb = np.dot(sRGB.XYZ_to_RGB_matrix, H_xyz) / white_rgb\n",
        "\n",
        "print('H_rgb', H_rgb)\n",
        "assert np.array_equal(np.round(H_rgb, 15), [1.0, 1.0, 1.0])"
      ],
      "execution_count": 67,
      "outputs": [
        {
          "output_type": "stream",
          "text": [
            "H_rgb [ 1.  1.  1.]\n"
          ],
          "name": "stdout"
        }
      ]
    }
  ]
}